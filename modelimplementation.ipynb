{
 "cells": [
  {
   "cell_type": "code",
   "execution_count": 1,
   "id": "2558d172",
   "metadata": {},
   "outputs": [],
   "source": [
    "import pandas as pd\n",
    "import numpy as np\n",
    "from sklearn.cluster import KMeans\n",
    "import pulp\n",
    "import random"
   ]
  },
  {
   "cell_type": "code",
   "execution_count": 2,
   "id": "538c0a5f",
   "metadata": {},
   "outputs": [],
   "source": [
    "df = pd.read_csv(r\"C:\\Users\\gudal\\Downloads\\ambulace optimization\\extracted_data\\final.csv\")\n",
    "accident_df = df[df['class'] == 1].copy()\n",
    "accident_coords = accident_df[['latitude', 'longitude']].values"
   ]
  },
  {
   "cell_type": "code",
   "execution_count": 3,
   "id": "8be2aa70",
   "metadata": {},
   "outputs": [],
   "source": [
    "def haversine(lat1, lon1, lat2, lon2):\n",
    "    R = 6371\n",
    "    lat1, lon1, lat2, lon2 = map(np.radians, [lat1, lon1, lat2, lon2])\n",
    "    dlat, dlon = lat2 - lat1, lon2 - lon1\n",
    "    a = np.sin(dlat/2)**2 + np.cos(lat1) * np.cos(lat2) * np.sin(dlon/2)**2\n",
    "    return R * 2 * np.arcsin(np.sqrt(a))"
   ]
  },
  {
   "cell_type": "code",
   "execution_count": 4,
   "id": "b713e464",
   "metadata": {},
   "outputs": [],
   "source": [
    "def optimize_ambulance_locations(station_coords, accident_coords, max_ambulances, station_capacity):\n",
    "    num_stations = len(station_coords)\n",
    "    num_accidents = len(accident_coords)\n",
    "\n",
    "    # Travel time matrix\n",
    "    travel_time = np.zeros((num_stations, num_accidents))\n",
    "    for i, (s_lat, s_lon) in enumerate(station_coords):\n",
    "        for j, (a_lat, a_lon) in enumerate(accident_coords):\n",
    "            dist_km = haversine(s_lat, s_lon, a_lat, a_lon)\n",
    "            travel_time[i][j] = (dist_km / 40) * 60  # 40 km/h avg speed\n",
    "\n",
    "    model = pulp.LpProblem(\"Ambulance_Optimization\", pulp.LpMinimize)\n",
    "    x = pulp.LpVariable.dicts(\"Place\", range(num_stations), cat='Binary')\n",
    "    y = pulp.LpVariable.dicts(\"Assign\", [(i, j) for i in range(num_stations) for j in range(num_accidents)], cat='Binary')\n",
    "\n",
    "    # Objective\n",
    "    model += pulp.lpSum([travel_time[i][j] * y[(i, j)] for i in range(num_stations) for j in range(num_accidents)])\n",
    "\n",
    "    # Constraints\n",
    "    model += pulp.lpSum([x[i] for i in range(num_stations)]) == max_ambulances\n",
    "    for j in range(num_accidents):\n",
    "        model += pulp.lpSum([y[(i, j)] for i in range(num_stations)]) == 1\n",
    "    for i in range(num_stations):\n",
    "        for j in range(num_accidents):\n",
    "            model += y[(i, j)] <= x[i]\n",
    "    for i in range(num_stations):\n",
    "        model += pulp.lpSum([y[(i, j)] for j in range(num_accidents)]) <= station_capacity\n",
    "\n",
    "    # Solve\n",
    "    model.solve()\n",
    "\n",
    "    # Collect results\n",
    "    assignments = {}\n",
    "    for j in range(num_accidents):\n",
    "        for i in range(num_stations):\n",
    "            if pulp.value(y[(i, j)]) == 1:\n",
    "                assignments[j] = (i, travel_time[i][j])\n",
    "    return assignments, station_coords\n"
   ]
  },
  {
   "cell_type": "code",
   "execution_count": 5,
   "id": "17eefa4c",
   "metadata": {},
   "outputs": [],
   "source": [
    "def generate_random_stations(accident_coords, num_stations):\n",
    "    return random.sample(list(accident_coords), num_stations)"
   ]
  },
  {
   "cell_type": "code",
   "execution_count": 6,
   "id": "d60af7d3",
   "metadata": {},
   "outputs": [],
   "source": [
    "num_stations = 10\n",
    "max_ambulances = 50\n",
    "station_capacity = 100\n",
    "\n",
    "# (A) Optimized station placement using KMeans\n",
    "kmeans = KMeans(n_clusters=num_stations, random_state=42).fit(accident_coords)\n",
    "optimized_stations = kmeans.cluster_centers_\n",
    "opt_assignments, opt_coords = optimize_ambulance_locations(optimized_stations, accident_coords, max_ambulances, station_capacity)\n",
    "\n",
    "# (B) Baseline: Random station placement\n",
    "random_stations = generate_random_stations(accident_coords, num_stations)\n",
    "base_assignments, base_coords = optimize_ambulance_locations(random_stations, accident_coords, max_ambulances, station_capacity)"
   ]
  },
  {
   "cell_type": "code",
   "execution_count": null,
   "id": "c96215f0",
   "metadata": {},
   "outputs": [
    {
     "name": "stdout",
     "output_type": "stream",
     "text": [
      "\n",
      " Optimized Model Performance:\n",
      "{'Avg Travel Time (min)': np.float64(8.053356728245113), 'Max Travel Time (min)': np.float64(24.984423242553365), 'Min Travel Time (min)': np.float64(2.0383700205072053)}\n",
      "\n",
      " Baseline (Random) Model Performance:\n",
      "{'Avg Travel Time (min)': np.float64(7.658798979191563), 'Max Travel Time (min)': np.float64(114.80633253191385), 'Min Travel Time (min)': np.float64(0.12577708286460787)}\n"
     ]
    }
   ],
   "source": [
    "def analyze(assignments):\n",
    "    times = [time for _, time in assignments.values()]\n",
    "    return {\n",
    "        \"Avg Travel Time (min)\": np.mean(times),\n",
    "        \"Max Travel Time (min)\": np.max(times),\n",
    "        \"Min Travel Time (min)\": np.min(times)\n",
    "    }\n",
    "\n",
    "opt_result = analyze(opt_assignments)\n",
    "base_result = analyze(base_assignments)\n",
    "\n",
    "print(\"\\n Optimized Model Performance:\")\n",
    "print(opt_result)\n",
    "\n",
    "print(\"\\n Baseline (Random) Model Performance:\")\n",
    "print(base_result)"
   ]
  },
  {
   "cell_type": "code",
   "execution_count": null,
   "id": "20a3cc78",
   "metadata": {},
   "outputs": [
    {
     "name": "stderr",
     "output_type": "stream",
     "text": [
      "C:\\Users\\gudal\\AppData\\Local\\Temp\\ipykernel_31416\\2268303356.py:41: UserWarning: Glyph 128657 (\\N{AMBULANCE}) missing from font(s) DejaVu Sans.\n",
      "  plt.tight_layout()\n",
      "C:\\Users\\gudal\\AppData\\Local\\Packages\\PythonSoftwareFoundation.Python.3.12_qbz5n2kfra8p0\\LocalCache\\local-packages\\Python312\\site-packages\\IPython\\core\\pylabtools.py:170: UserWarning: Glyph 128657 (\\N{AMBULANCE}) missing from font(s) DejaVu Sans.\n",
      "  fig.canvas.print_figure(bytes_io, **kw)\n"
     ]
    },
    {
     "data": {
      "image/png": "[encoded data removed]",
      "text/plain": [
       "<Figure size 1000x600 with 1 Axes>"
      ]
     },
     "metadata": {},
     "output_type": "display_data"
    }
   ],
   "source": [
    "import matplotlib.pyplot as plt\n",
    "\n",
    "# Prepare data\n",
    "labels = ['Avg Travel Time', 'Max Travel Time', 'Min Travel Time']\n",
    "optimized_values = [float(opt_result['Avg Travel Time (min)']),\n",
    "                    float(opt_result['Max Travel Time (min)']),\n",
    "                    float(opt_result['Min Travel Time (min)'])]\n",
    "\n",
    "baseline_values = [float(base_result['Avg Travel Time (min)']),\n",
    "                   float(base_result['Max Travel Time (min)']),\n",
    "                   float(base_result['Min Travel Time (min)'])]\n",
    "\n",
    "x = np.arange(len(labels))  # the label locations\n",
    "width = 0.35  # width of the bars\n",
    "\n",
    "# Create bar plot\n",
    "fig, ax = plt.subplots(figsize=(10, 6))\n",
    "bars1 = ax.bar(x - width/2, optimized_values, width, label='Optimized', color='green')\n",
    "bars2 = ax.bar(x + width/2, baseline_values, width, label='Baseline', color='red')\n",
    "\n",
    "# Add labels, title and custom x-axis tick labels\n",
    "ax.set_ylabel('Travel Time (min)')\n",
    "ax.set_title(' Ambulance Dispatch Time Comparison')\n",
    "ax.set_xticks(x)\n",
    "ax.set_xticklabels(labels)\n",
    "ax.legend()\n",
    "\n",
    "# Add value labels on top of bars\n",
    "def add_labels(bars):\n",
    "    for bar in bars:\n",
    "        height = bar.get_height()\n",
    "        ax.annotate(f'{height:.1f}',\n",
    "                    xy=(bar.get_x() + bar.get_width() / 2, height),\n",
    "                    xytext=(0, 3),  # 3 points vertical offset\n",
    "                    textcoords=\"offset points\",\n",
    "                    ha='center', va='bottom')\n",
    "\n",
    "add_labels(bars1)\n",
    "add_labels(bars2)\n",
    "\n",
    "plt.tight_layout()\n",
    "plt.grid(axis='y', linestyle='--', alpha=0.5)\n",
    "plt.show()\n"
   ]
  },
  {
   "cell_type": "code",
   "execution_count": 15,
   "id": "57ab1e9a",
   "metadata": {},
   "outputs": [
    {
     "name": "stdout",
     "output_type": "stream",
     "text": [
      " Accident #1467 is assigned to Station #5\n",
      " Travel Time: 114.81 minutes\n"
     ]
    }
   ],
   "source": [
    "# Find the accident with the maximum travel time\n",
    "worst_case = max(base_assignments.items(), key=lambda item: item[1][1])  # (acc_idx, (station_idx, travel_time))\n",
    "\n",
    "# Unpack properly\n",
    "acc_idx, (station_idx, travel_time) = worst_case\n",
    "\n",
    "# Print details\n",
    "print(f\" Accident #{acc_idx} is assigned to Station #{station_idx}\")\n",
    "print(f\" Travel Time: {travel_time:.2f} minutes\")\n"
   ]
  },
  {
   "cell_type": "code",
   "execution_count": null,
   "id": "e7e3f29d",
   "metadata": {},
   "outputs": [],
   "source": []
  }
 ],
 "metadata": {
  "kernelspec": {
   "display_name": "Python 3",
   "language": "python",
   "name": "python3"
  },
  "language_info": {
   "codemirror_mode": {
    "name": "ipython",
    "version": 3
   },
   "file_extension": ".py",
   "mimetype": "text/x-python",
   "name": "python",
   "nbconvert_exporter": "python",
   "pygments_lexer": "ipython3",
   "version": "3.12.10"
  }
 },
 "nbformat": 4,
 "nbformat_minor": 5
}
