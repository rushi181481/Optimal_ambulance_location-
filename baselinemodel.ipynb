{
 "cells": [
  {
   "cell_type": "code",
   "execution_count": 2,
   "metadata": {},
   "outputs": [],
   "source": [
    "import pandas as pd\n",
    "import geopandas as gpd\n",
    "import numpy as np\n",
    "import folium\n",
    "from folium.plugins import MarkerCluster"
   ]
  },
  {
   "cell_type": "code",
   "execution_count": 3,
   "metadata": {},
   "outputs": [],
   "source": [
    "# Load the processed dataset\n",
    "df = pd.read_csv(\"enhanced_accident_data.csv\")"
   ]
  },
  {
   "cell_type": "code",
   "execution_count": 47,
   "metadata": {},
   "outputs": [],
   "source": [
    "# Identify high-frequency accident locations (Top N locations)\n",
    "num_ambulances =  3000  # Change this based on available resources\n",
    "top_locations = df.groupby([\"latitude\", \"longitude\"]).size().reset_index(name=\"accident_count\")\n",
    "top_locations = top_locations.nlargest(num_ambulances, \"accident_count\")"
   ]
  },
  {
   "cell_type": "code",
   "execution_count": 48,
   "metadata": {},
   "outputs": [],
   "source": [
    "# Compute basic performance metrics\n",
    "average_accidents_per_location = top_locations[\"accident_count\"].mean()\n",
    "coverage_percentage = (top_locations[\"accident_count\"].sum() / df.shape[0]) * 100"
   ]
  },
  {
   "cell_type": "code",
   "execution_count": 49,
   "metadata": {},
   "outputs": [
    {
     "name": "stdout",
     "output_type": "stream",
     "text": [
      "Average accidents per selected location: 3.011439466158246\n",
      "Coverage percentage: 100.00%\n"
     ]
    }
   ],
   "source": [
    "# Print performance metrics\n",
    "print(f\"Average accidents per selected location: {average_accidents_per_location}\")\n",
    "print(f\"Coverage percentage: {coverage_percentage:.2f}%\")"
   ]
  },
  {
   "cell_type": "code",
   "execution_count": 50,
   "metadata": {},
   "outputs": [],
   "source": [
    "# Visualizing ambulance placement\n",
    "map_center = [df[\"latitude\"].mean(), df[\"longitude\"].mean()]\n",
    "map_object = folium.Map(location=map_center, zoom_start=12)\n",
    "marker_cluster = MarkerCluster().add_to(map_object)"
   ]
  },
  {
   "cell_type": "code",
   "execution_count": 51,
   "metadata": {},
   "outputs": [],
   "source": [
    "for _, row in top_locations.iterrows():\n",
    "    folium.Marker(\n",
    "        location=[row[\"latitude\"], row[\"longitude\"]],\n",
    "        popup=f\"Accident Count: {row['accident_count']}\",\n",
    "        icon=folium.Icon(color='red', icon='ambulance', prefix='fa')\n",
    "    ).add_to(marker_cluster)"
   ]
  },
  {
   "cell_type": "code",
   "execution_count": 52,
   "metadata": {},
   "outputs": [
    {
     "name": "stdout",
     "output_type": "stream",
     "text": [
      "Baseline Model Implementation Completed! Map saved as 'baseline_ambulance_placement.html'\n"
     ]
    }
   ],
   "source": [
    "# Save the map\n",
    "map_object.save(\"baseline_ambulance_placement.html\")\n",
    "\n",
    "print(\"Baseline Model Implementation Completed! Map saved as 'baseline_ambulance_placement.html'\")"
   ]
  },
  {
   "cell_type": "code",
   "execution_count": null,
   "metadata": {},
   "outputs": [],
   "source": []
  }
 ],
 "metadata": {
  "kernelspec": {
   "display_name": "Python 3",
   "language": "python",
   "name": "python3"
  },
  "language_info": {
   "codemirror_mode": {
    "name": "ipython",
    "version": 3
   },
   "file_extension": ".py",
   "mimetype": "text/x-python",
   "name": "python",
   "nbconvert_exporter": "python",
   "pygments_lexer": "ipython3",
   "version": "3.12.9"
  }
 },
 "nbformat": 4,
 "nbformat_minor": 2
}
