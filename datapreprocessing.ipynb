{
 "cells": [
  {
   "cell_type": "code",
   "execution_count": 13,
   "metadata": {},
   "outputs": [],
   "source": [
    "import pandas as pd\n",
    "import geopandas as gpd\n",
    "import numpy as np\n",
    "from sklearn.cluster import KMeans\n",
    "import folium\n",
    "import os\n",
    "import zipfile"
   ]
  },
  {
   "cell_type": "code",
   "execution_count": 14,
   "metadata": {},
   "outputs": [
    {
     "name": "stdout",
     "output_type": "stream",
     "text": [
      "   uid             datetime  latitude  longitude\n",
      "0    1  2018-01-01 00:25:46 -1.188850  36.931382\n",
      "1    2  2018-01-01 02:02:39 -0.662939  37.208730\n",
      "2    3  2018-01-01 02:31:49 -0.662939  37.208730\n",
      "3    4  2018-01-01 03:04:01 -1.288087  36.826583\n",
      "4    5  2018-01-01 03:58:49 -1.188850  36.931382\n"
     ]
    }
   ],
   "source": [
    "# Define ZIP file path\n",
    "zip_file_path = r\"C:\\Users\\gudal\\Downloads\\joyeetadey Optimal-Ambulance-Positioning-for-Road-Crashes main Datasets.zip\"  # Change this to your ZIP file path\n",
    "extract_folder = \"extracted_data\"\n",
    "\n",
    "# Extract the ZIP file\n",
    "with zipfile.ZipFile(zip_file_path, 'r') as zip_ref:\n",
    "    zip_ref.extractall(extract_folder)\n",
    "\n",
    "# Find the CSV file inside the extracted folder\n",
    "csv_file = None\n",
    "for file in os.listdir(extract_folder):\n",
    "    if file.endswith(\".csv\"):\n",
    "        csv_file = os.path.join(extract_folder, file)\n",
    "        break\n",
    "\n",
    "if csv_file is None:\n",
    "    raise FileNotFoundError(\"No CSV file found in the extracted ZIP folder.\")\n",
    "\n",
    "# Load accident dataset\n",
    "df = pd.read_csv(csv_file)\n",
    "\n",
    "# Display first few rows to understand the structure\n",
    "print(df.head())"
   ]
  },
  {
   "cell_type": "code",
   "execution_count": 15,
   "metadata": {},
   "outputs": [],
   "source": [
    "# Handle missing values (Fill with mean/median or drop rows with critical missing data)\n",
    "df.dropna(subset=[\"latitude\", \"longitude\"], inplace=True)  # Drop rows missing coordinates\n",
    "df.fillna(df.median(numeric_only=True), inplace=True)  # Fill numerical columns with median"
   ]
  },
  {
   "cell_type": "code",
   "execution_count": 16,
   "metadata": {},
   "outputs": [],
   "source": [
    "# Convert DataFrame to GeoDataFrame for spatial operations\n",
    "gdf = gpd.GeoDataFrame(df, geometry=gpd.points_from_xy(df.longitude, df.latitude), crs=\"EPSG:4326\")"
   ]
  },
  {
   "cell_type": "code",
   "execution_count": 17,
   "metadata": {},
   "outputs": [],
   "source": [
    "# Cluster accident-prone areas using K-Means\n",
    "num_clusters = 5  # Adjust as needed\n",
    "kmeans = KMeans(n_clusters=num_clusters, random_state=42, n_init=10)\n",
    "df[\"cluster\"] = kmeans.fit_predict(df[[\"latitude\", \"longitude\"]])\n",
    "\n",
    "# Save the clustered data\n",
    "df.to_csv(\"processed_accident_data.csv\", index=False)\n"
   ]
  },
  {
   "cell_type": "code",
   "execution_count": 18,
   "metadata": {},
   "outputs": [],
   "source": [
    "# Visualize clusters on a map\n",
    "map_center = [df[\"latitude\"].mean(), df[\"longitude\"].mean()]\n",
    "map_object = folium.Map(location=map_center, zoom_start=12)\n",
    "colors = [\"red\", \"blue\", \"green\", \"purple\", \"orange\"]\n",
    "\n",
    "for idx, row in df.iterrows():\n",
    "    folium.CircleMarker(\n",
    "        location=[row[\"latitude\"], row[\"longitude\"]],\n",
    "        radius=5,\n",
    "        color=colors[row[\"cluster\"] % len(colors)],\n",
    "        fill=True,\n",
    "        fill_color=colors[row[\"cluster\"] % len(colors)],\n",
    "        fill_opacity=0.6,\n",
    "    ).add_to(map_object)\n"
   ]
  },
  {
   "cell_type": "code",
   "execution_count": 19,
   "metadata": {},
   "outputs": [
    {
     "name": "stdout",
     "output_type": "stream",
     "text": [
      "Data Preprocessing Completed! Processed file saved as 'processed_accident_data.csv' and map as 'accident_clusters_map.html'\n"
     ]
    }
   ],
   "source": [
    "# Save the map\n",
    "map_object.save(\"accident_clusters_map.html\")\n",
    "\n",
    "print(\"Data Preprocessing Completed! Processed file saved as 'processed_accident_data.csv' and map as 'accident_clusters_map.html'\")"
   ]
  }
 ],
 "metadata": {
  "kernelspec": {
   "display_name": "Python 3",
   "language": "python",
   "name": "python3"
  },
  "language_info": {
   "codemirror_mode": {
    "name": "ipython",
    "version": 3
   },
   "file_extension": ".py",
   "mimetype": "text/x-python",
   "name": "python",
   "nbconvert_exporter": "python",
   "pygments_lexer": "ipython3",
   "version": "3.12.9"
  }
 },
 "nbformat": 4,
 "nbformat_minor": 2
}
